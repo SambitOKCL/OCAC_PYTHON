{
 "cells": [
  {
   "cell_type": "markdown",
   "id": "2939c893-874b-4f29-8bb1-ec3d01ffe693",
   "metadata": {},
   "source": [
    "## OR USE RUN BUTTON"
   ]
  },
  {
   "cell_type": "raw",
   "id": "505b09eb-1bdd-43a8-8305-99755db4f992",
   "metadata": {},
   "source": [
    "print(\"Hello OCAC\")"
   ]
  },
  {
   "cell_type": "code",
   "execution_count": 15,
   "id": "575771e8-8a4d-45f3-bd51-7714320716a5",
   "metadata": {},
   "outputs": [
    {
     "data": {
      "text/plain": [
       "'C:\\\\Users\\\\okcl\\\\PYTHON 3'"
      ]
     },
     "execution_count": 15,
     "metadata": {},
     "output_type": "execute_result"
    }
   ],
   "source": [
    "pwd"
   ]
  },
  {
   "cell_type": "code",
   "execution_count": null,
   "id": "c5a94915-e78e-4a8c-8eab-94cb6c165424",
   "metadata": {},
   "outputs": [],
   "source": []
  },
  {
   "cell_type": "code",
   "execution_count": 2,
   "id": "b0731c69-8ea9-4c6c-a13a-ec024e6443e9",
   "metadata": {},
   "outputs": [
    {
     "name": "stdout",
     "output_type": "stream",
     "text": [
      "5\n"
     ]
    }
   ],
   "source": [
    "print(5)"
   ]
  },
  {
   "cell_type": "markdown",
   "id": "35f8a837-d240-43b9-ba58-0bc3c1b6ddd6",
   "metadata": {},
   "source": [
    "SHIFT + ENTER"
   ]
  },
  {
   "cell_type": "markdown",
   "id": "8e07d057-85e6-4d24-8162-2c13708df396",
   "metadata": {},
   "source": [
    "### OK"
   ]
  },
  {
   "cell_type": "code",
   "execution_count": 5,
   "id": "cfac6397-804c-48c0-b88e-26f3f59c298c",
   "metadata": {},
   "outputs": [
    {
     "data": {
      "text/plain": [
       "15"
      ]
     },
     "execution_count": 5,
     "metadata": {},
     "output_type": "execute_result"
    }
   ],
   "source": [
    "A = 5\n",
    "B = 10\n",
    "A+B"
   ]
  },
  {
   "cell_type": "code",
   "execution_count": 15,
   "id": "2d08d716-5682-47be-a325-7c4ee47f7b23",
   "metadata": {},
   "outputs": [
    {
     "data": {
      "text/plain": [
       "'OK Good Afternnon'"
      ]
     },
     "execution_count": 15,
     "metadata": {},
     "output_type": "execute_result"
    }
   ],
   "source": [
    "\"\"\"OK Good Afternnon\"\"\""
   ]
  },
  {
   "cell_type": "code",
   "execution_count": 13,
   "id": "f62c501a-b610-4d8d-9b50-fb6afd5368a3",
   "metadata": {},
   "outputs": [
    {
     "data": {
      "text/plain": [
       "5"
      ]
     },
     "execution_count": 13,
     "metadata": {},
     "output_type": "execute_result"
    }
   ],
   "source": [
    "5"
   ]
  },
  {
   "cell_type": "code",
   "execution_count": 5,
   "id": "067d30c7-c3ab-4a3b-8e1b-d7d37d62652f",
   "metadata": {},
   "outputs": [
    {
     "data": {
      "text/plain": [
       "'This is the second class\\nof the Python Internship Batch\\nand we are studying about Varibale and Identifier'"
      ]
     },
     "execution_count": 5,
     "metadata": {},
     "output_type": "execute_result"
    }
   ],
   "source": [
    "AN = 1 #Thi is variable declare\n",
    "b = 5\n",
    "AN +b   # doing summation of two variables\n",
    "\"\"\"This is the second class\n",
    "of the Python Internship Batch\n",
    "and we are studying about Varibale and Identifier\"\"\""
   ]
  },
  {
   "cell_type": "code",
   "execution_count": 17,
   "id": "1b1ead09-d10c-474d-821f-013b74c6a2f2",
   "metadata": {},
   "outputs": [
    {
     "name": "stdout",
     "output_type": "stream",
     "text": [
      "6\n"
     ]
    },
    {
     "data": {
      "text/plain": [
       "'This is the second class\\nof the Python Internship Batch\\nand we are studying about Varibale and Identifier\\nAN +B'"
      ]
     },
     "execution_count": 17,
     "metadata": {},
     "output_type": "execute_result"
    }
   ],
   "source": [
    "AN = 1 #Thi is variable declare\n",
    "b = 5\n",
    "print(AN +b)   # doing summation of two variables\n",
    "\"\"\"This is the second class\n",
    "of the Python Internship Batch\n",
    "and we are studying about Varibale and Identifier\n",
    "AN +B\"\"\""
   ]
  },
  {
   "cell_type": "code",
   "execution_count": 9,
   "id": "37d59f53-dfcd-43aa-a131-5b66f97d48d5",
   "metadata": {},
   "outputs": [
    {
     "name": "stdout",
     "output_type": "stream",
     "text": [
      "6\n"
     ]
    }
   ],
   "source": [
    "\"\"\"This is the second class\n",
    "of the Python Internship Batch\n",
    "and we are studying about Varibale and Identifier\"\"\"\n",
    "AN = 1 #Thi is variable declare\n",
    "b = 5\n",
    "print(AN +b)   # doing summation of two variables"
   ]
  },
  {
   "cell_type": "code",
   "execution_count": 19,
   "id": "47057df7-540e-43d7-97be-b0ae3769a605",
   "metadata": {},
   "outputs": [
    {
     "data": {
      "text/plain": [
       "6"
      ]
     },
     "execution_count": 19,
     "metadata": {},
     "output_type": "execute_result"
    }
   ],
   "source": [
    "\"\"\"This is the second class\n",
    "of the Python Internship Batch\n",
    "and we are studying about Varibale and Identifier\"\"\"\n",
    "AN = 1 #Thi is variable declare\n",
    "b = 5\n",
    "AN +b   # doing summation of two variables"
   ]
  },
  {
   "cell_type": "code",
   "execution_count": 23,
   "id": "c6c77eeb-350b-4737-98a9-3057306a5d8e",
   "metadata": {},
   "outputs": [
    {
     "data": {
      "text/plain": [
       "90"
      ]
     },
     "execution_count": 23,
     "metadata": {},
     "output_type": "execute_result"
    }
   ],
   "source": [
    "A  =90\n",
    "A"
   ]
  },
  {
   "cell_type": "code",
   "execution_count": 27,
   "id": "62a68a90-06b9-46c1-b79a-23d34d8d7726",
   "metadata": {},
   "outputs": [
    {
     "data": {
      "text/plain": [
       "140718191791688"
      ]
     },
     "execution_count": 27,
     "metadata": {},
     "output_type": "execute_result"
    }
   ],
   "source": [
    "id(A)"
   ]
  },
  {
   "cell_type": "code",
   "execution_count": 37,
   "id": "7509c855-0b04-44c3-b2ee-8c819f06700e",
   "metadata": {},
   "outputs": [
    {
     "data": {
      "text/plain": [
       "140718191791688"
      ]
     },
     "execution_count": 37,
     "metadata": {},
     "output_type": "execute_result"
    }
   ],
   "source": [
    "id(D)"
   ]
  },
  {
   "cell_type": "code",
   "execution_count": 29,
   "id": "73d82c13-247e-411f-84ad-f0952ecda698",
   "metadata": {},
   "outputs": [
    {
     "data": {
      "text/plain": [
       "140718191788968"
      ]
     },
     "execution_count": 29,
     "metadata": {},
     "output_type": "execute_result"
    }
   ],
   "source": [
    "B = 5\n",
    "id(B)"
   ]
  },
  {
   "cell_type": "code",
   "execution_count": 31,
   "id": "a2c68ac7-5622-4163-8145-c578b15065fc",
   "metadata": {},
   "outputs": [
    {
     "data": {
      "text/plain": [
       "140718191789128"
      ]
     },
     "execution_count": 31,
     "metadata": {},
     "output_type": "execute_result"
    }
   ],
   "source": [
    "B = 10\n",
    "id(B)"
   ]
  },
  {
   "cell_type": "code",
   "execution_count": 33,
   "id": "78f556c1-bc3f-4c4e-b095-07be3fd38e83",
   "metadata": {},
   "outputs": [
    {
     "data": {
      "text/plain": [
       "140718191789128"
      ]
     },
     "execution_count": 33,
     "metadata": {},
     "output_type": "execute_result"
    }
   ],
   "source": [
    "C = 10\n",
    "id(C)"
   ]
  },
  {
   "cell_type": "code",
   "execution_count": 35,
   "id": "57378b18-6cd9-4b2c-bece-7e8be8f79df7",
   "metadata": {},
   "outputs": [
    {
     "data": {
      "text/plain": [
       "90"
      ]
     },
     "execution_count": 35,
     "metadata": {},
     "output_type": "execute_result"
    }
   ],
   "source": [
    "D = 90\n",
    "D"
   ]
  },
  {
   "cell_type": "code",
   "execution_count": 41,
   "id": "fe777d8f-9aab-4715-918e-d8d2aeafed05",
   "metadata": {},
   "outputs": [
    {
     "data": {
      "text/plain": [
       "40"
      ]
     },
     "execution_count": 41,
     "metadata": {},
     "output_type": "execute_result"
    }
   ],
   "source": [
    "Z= 15\n",
    "C = 25\n",
    "Z+C"
   ]
  },
  {
   "cell_type": "code",
   "execution_count": 43,
   "id": "751a9727-63a1-4673-bec5-94a96f1d2956",
   "metadata": {},
   "outputs": [
    {
     "data": {
      "text/plain": [
       "25"
      ]
     },
     "execution_count": 43,
     "metadata": {},
     "output_type": "execute_result"
    }
   ],
   "source": [
    "C"
   ]
  },
  {
   "cell_type": "code",
   "execution_count": 71,
   "id": "022869dc-c707-40f7-8f82-5429fc6e0dba",
   "metadata": {},
   "outputs": [
    {
     "name": "stdout",
     "output_type": "stream",
     "text": [
      "tHE SUMMATION IS -  40\n"
     ]
    },
    {
     "data": {
      "text/plain": [
       "40"
      ]
     },
     "execution_count": 71,
     "metadata": {},
     "output_type": "execute_result"
    }
   ],
   "source": [
    "Z= 15\n",
    "C = 25\n",
    "V = 2558\n",
    "U = Z+C\n",
    "print(\"tHE SUMMATION IS - \",Z+C)\n",
    "V\n",
    "U"
   ]
  },
  {
   "cell_type": "code",
   "execution_count": 73,
   "id": "2fdf9e00-62a6-4a7a-b605-2b7989e426ae",
   "metadata": {},
   "outputs": [
    {
     "name": "stdout",
     "output_type": "stream",
     "text": [
      "tHE SUMMATION IS -  40\n"
     ]
    },
    {
     "data": {
      "text/plain": [
       "2558"
      ]
     },
     "execution_count": 73,
     "metadata": {},
     "output_type": "execute_result"
    }
   ],
   "source": [
    "Z= 15\n",
    "C = 25\n",
    "V = 2558\n",
    "U = Z+C\n",
    "U\n",
    "print(\"tHE SUMMATION IS - \",Z+C)\n",
    "V"
   ]
  },
  {
   "cell_type": "code",
   "execution_count": 57,
   "id": "489c6f41-582f-49c4-90c4-a3ebfb8776d5",
   "metadata": {},
   "outputs": [
    {
     "name": "stdout",
     "output_type": "stream",
     "text": [
      "tHE SUMMATION IS -  40\n"
     ]
    }
   ],
   "source": [
    "Z= 15\n",
    "C = 25\n",
    "U = Z+C\n",
    "U\n",
    "V = print(\"tHE SUMMATION IS - \",Z+C)\n",
    "V "
   ]
  },
  {
   "cell_type": "code",
   "execution_count": 59,
   "id": "5b33f3c2-316a-4a5f-9ef0-78298dde65a8",
   "metadata": {},
   "outputs": [
    {
     "name": "stdout",
     "output_type": "stream",
     "text": [
      "tHE SUMMATION IS -  40\n"
     ]
    },
    {
     "data": {
      "text/plain": [
       "40"
      ]
     },
     "execution_count": 59,
     "metadata": {},
     "output_type": "execute_result"
    }
   ],
   "source": [
    "Z= 15\n",
    "C = 25\n",
    "U = Z+C\n",
    "print(\"tHE SUMMATION IS - \",Z+C)\n",
    "U"
   ]
  },
  {
   "cell_type": "code",
   "execution_count": 75,
   "id": "ec035797-7c9d-4fc0-a89b-0953d86154aa",
   "metadata": {},
   "outputs": [
    {
     "ename": "SyntaxError",
     "evalue": "invalid decimal literal (3427856042.py, line 1)",
     "output_type": "error",
     "traceback": [
      "\u001b[1;36m  Cell \u001b[1;32mIn[75], line 1\u001b[1;36m\u001b[0m\n\u001b[1;33m    1A = 147\u001b[0m\n\u001b[1;37m    ^\u001b[0m\n\u001b[1;31mSyntaxError\u001b[0m\u001b[1;31m:\u001b[0m invalid decimal literal\n"
     ]
    }
   ],
   "source": [
    "1A = 147\n",
    "1A"
   ]
  },
  {
   "cell_type": "code",
   "execution_count": 77,
   "id": "df511d4e-12fb-433f-b522-102759897a4a",
   "metadata": {},
   "outputs": [
    {
     "data": {
      "text/plain": [
       "147"
      ]
     },
     "execution_count": 77,
     "metadata": {},
     "output_type": "execute_result"
    }
   ],
   "source": [
    "_1A = 147\n",
    "_1A"
   ]
  },
  {
   "cell_type": "code",
   "execution_count": 81,
   "id": "252ee6b6-395b-4e21-ba94-eb0d63e55353",
   "metadata": {},
   "outputs": [
    {
     "data": {
      "text/plain": [
       "int"
      ]
     },
     "execution_count": 81,
     "metadata": {},
     "output_type": "execute_result"
    }
   ],
   "source": [
    "w = type(_1A)\n",
    "w"
   ]
  },
  {
   "cell_type": "code",
   "execution_count": 83,
   "id": "fd33be8b-6b0f-45fe-adb4-0955d52632e3",
   "metadata": {},
   "outputs": [
    {
     "name": "stdout",
     "output_type": "stream",
     "text": [
      "<class 'int'>\n"
     ]
    }
   ],
   "source": [
    "print(w)"
   ]
  },
  {
   "cell_type": "code",
   "execution_count": 85,
   "id": "dcb816ec-60cc-4613-a2ea-9d2ec9e0124c",
   "metadata": {},
   "outputs": [
    {
     "name": "stdout",
     "output_type": "stream",
     "text": [
      "['False', 'None', 'True', 'and', 'as', 'assert', 'async', 'await', 'break', 'class', 'continue', 'def', 'del', 'elif', 'else', 'except', 'finally', 'for', 'from', 'global', 'if', 'import', 'in', 'is', 'lambda', 'nonlocal', 'not', 'or', 'pass', 'raise', 'return', 'try', 'while', 'with', 'yield']\n"
     ]
    }
   ],
   "source": [
    "import keyword\n",
    "keywords = keyword.kwlist\n",
    "print(keywords)"
   ]
  },
  {
   "cell_type": "code",
   "execution_count": 89,
   "id": "b15d1841-e254-41eb-bdd1-72d1673c9164",
   "metadata": {},
   "outputs": [
    {
     "data": {
      "text/plain": [
       "35"
      ]
     },
     "execution_count": 89,
     "metadata": {},
     "output_type": "execute_result"
    }
   ],
   "source": [
    "len(keywords)"
   ]
  },
  {
   "cell_type": "code",
   "execution_count": 115,
   "id": "3715060e-4b67-4afb-9bd2-422b9c9518ba",
   "metadata": {},
   "outputs": [
    {
     "name": "stdin",
     "output_type": "stream",
     "text": [
      "Enter your company name -  MINDTREE\n",
      "Enter your Employee ID -  122028\n"
     ]
    }
   ],
   "source": [
    "b = input(\"Enter your company name - \")\n",
    "c  = input(\"Enter your Employee ID - \")"
   ]
  },
  {
   "cell_type": "code",
   "execution_count": 117,
   "id": "cd832dd0-5d01-426a-ba29-56cffc7e4bb2",
   "metadata": {},
   "outputs": [
    {
     "name": "stdout",
     "output_type": "stream",
     "text": [
      "My Organisations name is -  MINDTREE 122028\n"
     ]
    }
   ],
   "source": [
    "print(\"My Organisations name is - \",b,c)"
   ]
  },
  {
   "cell_type": "code",
   "execution_count": 107,
   "id": "8c908f22-0817-4f6f-bd9e-0ff9d91d2d4a",
   "metadata": {},
   "outputs": [
    {
     "name": "stdout",
     "output_type": "stream",
     "text": [
      "MINDTREE IS My Organisations name\n"
     ]
    }
   ],
   "source": [
    "print(b,\"IS My Organisations name\")"
   ]
  },
  {
   "cell_type": "code",
   "execution_count": 109,
   "id": "87412ff8-022f-4f84-a9f0-b9659c147a98",
   "metadata": {},
   "outputs": [
    {
     "name": "stdout",
     "output_type": "stream",
     "text": [
      " I AM FROM  MINDTREE where are you from ?\n"
     ]
    }
   ],
   "source": [
    "print(\" I AM FROM \", b, \"where are you from ?\")"
   ]
  },
  {
   "cell_type": "code",
   "execution_count": 119,
   "id": "3fb6014f-5f85-4a7e-8453-1da34d024f19",
   "metadata": {},
   "outputs": [
    {
     "name": "stdout",
     "output_type": "stream",
     "text": [
      " I AM FROM  MINDTREE and my Employee ID is -  122028\n"
     ]
    }
   ],
   "source": [
    "print(\" I AM FROM \", b, \"and my Employee ID is - \",c)"
   ]
  },
  {
   "cell_type": "code",
   "execution_count": 127,
   "id": "699008d3-e373-43d8-902b-6940be6d8c0e",
   "metadata": {},
   "outputs": [
    {
     "name": "stdout",
     "output_type": "stream",
     "text": [
      " I AM FROM MINDTREE and my Employee ID is 122028\n"
     ]
    }
   ],
   "source": [
    "print(\" I AM FROM {} and my Employee ID is {}\".format(b,c))"
   ]
  },
  {
   "cell_type": "code",
   "execution_count": 129,
   "id": "f0e6e37f-befa-42e3-a7fd-27277a16ce90",
   "metadata": {},
   "outputs": [
    {
     "name": "stdout",
     "output_type": "stream",
     "text": [
      " I AM FROM 122028 and my Employee ID is MINDTREE\n"
     ]
    }
   ],
   "source": [
    "print(\" I AM FROM {} and my Employee ID is {}\".format(c,b))"
   ]
  },
  {
   "cell_type": "code",
   "execution_count": 131,
   "id": "08b3afb5-f4bb-4923-876b-deea979d927d",
   "metadata": {},
   "outputs": [
    {
     "data": {
      "text/plain": [
       "90"
      ]
     },
     "execution_count": 131,
     "metadata": {},
     "output_type": "execute_result"
    }
   ],
   "source": [
    "A"
   ]
  },
  {
   "cell_type": "code",
   "execution_count": 133,
   "id": "477104e9-80d0-4a20-8d86-35f85d1337c4",
   "metadata": {},
   "outputs": [],
   "source": [
    "del (A)"
   ]
  },
  {
   "cell_type": "code",
   "execution_count": 135,
   "id": "7646fcd3-6ca5-416f-ba92-462e2aa55f76",
   "metadata": {},
   "outputs": [
    {
     "ename": "NameError",
     "evalue": "name 'A' is not defined",
     "output_type": "error",
     "traceback": [
      "\u001b[1;31m---------------------------------------------------------------------------\u001b[0m",
      "\u001b[1;31mNameError\u001b[0m                                 Traceback (most recent call last)",
      "Cell \u001b[1;32mIn[135], line 1\u001b[0m\n\u001b[1;32m----> 1\u001b[0m A\n",
      "\u001b[1;31mNameError\u001b[0m: name 'A' is not defined"
     ]
    }
   ],
   "source": [
    "A"
   ]
  },
  {
   "cell_type": "code",
   "execution_count": null,
   "id": "b7988b3f-0581-4960-87a4-7e855c532ea9",
   "metadata": {},
   "outputs": [],
   "source": []
  }
 ],
 "metadata": {
  "kernelspec": {
   "display_name": "Python 3 (ipykernel)",
   "language": "python",
   "name": "python3"
  },
  "language_info": {
   "codemirror_mode": {
    "name": "ipython",
    "version": 3
   },
   "file_extension": ".py",
   "mimetype": "text/x-python",
   "name": "python",
   "nbconvert_exporter": "python",
   "pygments_lexer": "ipython3",
   "version": "3.11.7"
  }
 },
 "nbformat": 4,
 "nbformat_minor": 5
}
